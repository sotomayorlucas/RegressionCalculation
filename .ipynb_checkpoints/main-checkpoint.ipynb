{
 "cells": [
  {
   "cell_type": "code",
   "execution_count": 1,
   "metadata": {},
   "outputs": [],
   "source": [
    "\n",
    "import numpy as np\n",
    "import sklearn as sk\n",
    "\n",
    "\n",
    "#x, residuals, rank, s = np.linalg.lstsq(A,b) #Calcula cuadrados minimos. X resultado de CM, residuals norma 2 de Ax-b, rank, rango de la matriz \n",
    "  "
   ]
  },
  {
   "cell_type": "code",
   "execution_count": 2,
   "metadata": {},
   "outputs": [],
   "source": [
    "import statistics as st\n",
    "from sklearn.preprocessing import PolynomialFeatures\n",
    "def estandarizarX(v):\n",
    "    for i in range(len(v)):\n",
    "        v[i] = ((v[i] - st.mean(v))/st.variance(v))\n",
    "    return v\n",
    "def estandarizarMat(A):\n",
    "    for i in range(len(A)):\n",
    "        A[i] = estandarizarX(A[i])\n",
    "    return A\n",
    "\n",
    "def armarW(A, x, q):\n",
    "    w = [[0 for _ in range(len(A))] for _ in range(len(A))]\n",
    "    w = np.array(w)\n",
    "    idx = vecinosidx(A,x,q) \n",
    "    d = np.linalg.norm(x-A[idx[q-1]]) #Distancia maxima\n",
    "    for i in range(len(idx)):\n",
    "        index = idx[i]\n",
    "        w[index][index] = (1-((np.linalg.norm(x-A[index]))/d)**3) ** 3 \n",
    "        \n",
    "\n",
    "def vecinosidx (A,x,q):\n",
    "    list =[]\n",
    "    for v in A:\n",
    "        list.append(np.linalg.norm(x-v))\n",
    "    idx = np.argpartition(list, q+1)\n",
    "    print(idx)\n",
    "    #for i in idx:\n",
    "    #    print(list[i])\n",
    "    print(list[60])\n",
    "    print(list[22])\n",
    "    print(list[69])\n",
    "    print(list[56])\n",
    "    print(list[85])\n",
    "    return idx[:q]\n"
   ]
  },
  {
   "cell_type": "code",
   "execution_count": 152,
   "metadata": {},
   "outputs": [
    {
     "name": "stdout",
     "output_type": "stream",
     "text": [
      "[0 2 1 3]\n"
     ]
    }
   ],
   "source": []
  },
  {
   "cell_type": "code",
   "execution_count": 3,
   "metadata": {},
   "outputs": [
    {
     "ename": "FileNotFoundError",
     "evalue": "[Errno 2] No such file or directory: 'dataset.csv'",
     "output_type": "error",
     "traceback": [
      "\u001b[0;31m---------------------------------------------------------------------------\u001b[0m",
      "\u001b[0;31mFileNotFoundError\u001b[0m                         Traceback (most recent call last)",
      "\u001b[0;32m/tmp/ipykernel_8108/3490275881.py\u001b[0m in \u001b[0;36m<module>\u001b[0;34m\u001b[0m\n\u001b[1;32m      1\u001b[0m \u001b[0;32mimport\u001b[0m \u001b[0mcsv\u001b[0m\u001b[0;34m\u001b[0m\u001b[0;34m\u001b[0m\u001b[0m\n\u001b[0;32m----> 2\u001b[0;31m \u001b[0mdata\u001b[0m \u001b[0;34m=\u001b[0m \u001b[0mopen\u001b[0m\u001b[0;34m(\u001b[0m\u001b[0;34m\"dataset.csv\"\u001b[0m\u001b[0;34m)\u001b[0m\u001b[0;34m\u001b[0m\u001b[0;34m\u001b[0m\u001b[0m\n\u001b[0m\u001b[1;32m      3\u001b[0m \u001b[0mdataRead\u001b[0m \u001b[0;34m=\u001b[0m \u001b[0mcsv\u001b[0m\u001b[0;34m.\u001b[0m\u001b[0mreader\u001b[0m\u001b[0;34m(\u001b[0m\u001b[0mdata\u001b[0m\u001b[0;34m)\u001b[0m \u001b[0;31m#guardo el dataset en una matriz (tiene los labels)\u001b[0m\u001b[0;34m\u001b[0m\u001b[0;34m\u001b[0m\u001b[0m\n\u001b[1;32m      4\u001b[0m \u001b[0mheader\u001b[0m \u001b[0;34m=\u001b[0m \u001b[0;34m[\u001b[0m\u001b[0;34m]\u001b[0m\u001b[0;34m\u001b[0m\u001b[0;34m\u001b[0m\u001b[0m\n\u001b[1;32m      5\u001b[0m \u001b[0mheader\u001b[0m \u001b[0;34m=\u001b[0m \u001b[0mnext\u001b[0m\u001b[0;34m(\u001b[0m\u001b[0mdataRead\u001b[0m\u001b[0;34m)\u001b[0m\u001b[0;34m\u001b[0m\u001b[0;34m\u001b[0m\u001b[0m\n",
      "\u001b[0;31mFileNotFoundError\u001b[0m: [Errno 2] No such file or directory: 'dataset.csv'"
     ]
    }
   ],
   "source": [
    "import csv\n",
    "data = open(\"dataset.csv\")\n",
    "dataRead = csv.reader(data) #guardo el dataset en una matriz (tiene los labels)\n",
    "header = []\n",
    "header = next(dataRead)\n",
    "A = []\n",
    "B = []\n",
    "for row in dataRead:\n",
    "    A.append(row[3:]) #guardo los ultimos 3 elementos de cada fila\n",
    "    B.append(row[2]) #me guardo Ozono en B\n",
    "\n"
   ]
  },
  {
   "cell_type": "code",
   "execution_count": 180,
   "metadata": {},
   "outputs": [
    {
     "name": "stdout",
     "output_type": "stream",
     "text": [
      "[ 60  22  69  56  85  54  40  55 106  58  96  44 108   0  14  15  16  17\n",
      "  18  19  20  21  13  23  24  25  26  27  28  29  30  31  32  33  34  35\n",
      "  36  37  38  39  12  41  42  43  11  45  46  47  48  49  50  51  52  53\n",
      "   1  10   9  57   8  59   7  61  62  63  64  65  66  67  68   6  70  71\n",
      "  72  73  74  75  76  77  78  79  80  81  82  83  84   5  86  87  88  89\n",
      "  90  91  92  93  94  95   4  97  98  99 100 101 102 103 104 105   3 107\n",
      "   2 109]\n",
      "0.006162578480141098\n",
      "0.005612906665355335\n",
      "0.0063017134479581806\n",
      "0.007165880540434321\n",
      "0.00792003195274514\n"
     ]
    }
   ],
   "source": [
    "A = [list(map(float, x)) for x in A]\n",
    "A = estandarizarMat(A)\n",
    "poly = PolynomialFeatures(2)\n",
    "A = poly.fit_transform(A)\n",
    "C = A[1:]\n",
    "n = vecinosidx(C,A[0],5)"
   ]
  },
  {
   "cell_type": "code",
   "execution_count": 181,
   "metadata": {},
   "outputs": [
    {
     "name": "stdout",
     "output_type": "stream",
     "text": [
      "0.006162578480141098\n",
      "0.005612906665355335\n",
      "0.0063017134479581806\n",
      "0.007165880540434321\n",
      "0.00792003195274514\n"
     ]
    }
   ],
   "source": [
    "print (np.linalg.norm(A[0]-C[n[0]]))\n",
    "print (np.linalg.norm(A[0]-C[n[1]]))\n",
    "print (np.linalg.norm(A[0]-C[n[2]]))\n",
    "print (np.linalg.norm(A[0]-C[n[3]]))\n",
    "print (np.linalg.norm(A[0]-C[n[4]]))\n"
   ]
  }
 ],
 "metadata": {
  "kernelspec": {
   "display_name": "Python 3 (ipykernel)",
   "language": "python",
   "name": "python3"
  },
  "language_info": {
   "codemirror_mode": {
    "name": "ipython",
    "version": 3
   },
   "file_extension": ".py",
   "mimetype": "text/x-python",
   "name": "python",
   "nbconvert_exporter": "python",
   "pygments_lexer": "ipython3",
   "version": "3.9.7"
  },
  "vscode": {
   "interpreter": {
    "hash": "916dbcbb3f70747c44a77c7bcd40155683ae19c65e1c03b4aa3499c5328201f1"
   }
  }
 },
 "nbformat": 4,
 "nbformat_minor": 2
}
